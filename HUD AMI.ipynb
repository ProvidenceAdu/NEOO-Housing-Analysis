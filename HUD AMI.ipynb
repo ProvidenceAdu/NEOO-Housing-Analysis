{
 "cells": [
  {
   "cell_type": "markdown",
   "id": "53795cee",
   "metadata": {},
   "source": [
    "## Import Libraries"
   ]
  },
  {
   "cell_type": "code",
   "execution_count": 1,
   "id": "ca57e6e1",
   "metadata": {},
   "outputs": [],
   "source": [
    "import pandas as pd\n",
    "import numpy as np\n",
    "import os"
   ]
  },
  {
   "cell_type": "markdown",
   "id": "8e96a1cf",
   "metadata": {},
   "source": [
    "### Set Directory"
   ]
  },
  {
   "cell_type": "code",
   "execution_count": 2,
   "id": "4c2efccf",
   "metadata": {},
   "outputs": [],
   "source": [
    "path = 'C:\\\\Users\\\\Thepr\\\\Documents\\\\Consulting\\\\City of Columbia'\n",
    "os.chdir(path)"
   ]
  },
  {
   "cell_type": "markdown",
   "id": "5007c8ea",
   "metadata": {},
   "source": [
    "### Read Data"
   ]
  },
  {
   "cell_type": "code",
   "execution_count": 3,
   "id": "4ca62b1e",
   "metadata": {},
   "outputs": [
    {
     "data": {
      "text/plain": [
       "Index(['fips', 'stusps', 'state', 'state_name', 'hud_area_code',\n",
       "       'hud_area_name', 'county', 'County_Name', 'county_town_name', 'metro',\n",
       "       'median2025', 'l50_1', 'l50_2', 'l50_3', 'l50_4', 'l50_5', 'l50_6',\n",
       "       'l50_7', 'l50_8', 'ELI_1', 'ELI_2', 'ELI_3', 'ELI_4', 'ELI_5', 'ELI_6',\n",
       "       'ELI_7', 'ELI_8', 'l80_1', 'l80_2', 'l80_3', 'l80_4', 'l80_5', 'l80_6',\n",
       "       'l80_7', 'l80_8'],\n",
       "      dtype='object')"
      ]
     },
     "execution_count": 3,
     "metadata": {},
     "output_type": "execute_result"
    }
   ],
   "source": [
    "Data = pd.read_excel('Section8-FY25.xlsx')\n",
    "Data.columns"
   ]
  },
  {
   "cell_type": "markdown",
   "id": "885f1e91",
   "metadata": {},
   "source": [
    "### Filter Data For South Carolina"
   ]
  },
  {
   "cell_type": "code",
   "execution_count": 4,
   "id": "7cf9cd36",
   "metadata": {},
   "outputs": [],
   "source": [
    "DataSC = Data[ (Data['state_name'] == 'South Carolina') &\n",
    "              (Data['hud_area_name'] == 'Columbia, SC HUD Metro FMR Area') &\n",
    "              (Data['County_Name'] == 'Richland County')]"
   ]
  },
  {
   "cell_type": "code",
   "execution_count": 5,
   "id": "e2e9f848",
   "metadata": {},
   "outputs": [
    {
     "data": {
      "text/html": [
       "<div>\n",
       "<style scoped>\n",
       "    .dataframe tbody tr th:only-of-type {\n",
       "        vertical-align: middle;\n",
       "    }\n",
       "\n",
       "    .dataframe tbody tr th {\n",
       "        vertical-align: top;\n",
       "    }\n",
       "\n",
       "    .dataframe thead th {\n",
       "        text-align: right;\n",
       "    }\n",
       "</style>\n",
       "<table border=\"1\" class=\"dataframe\">\n",
       "  <thead>\n",
       "    <tr style=\"text-align: right;\">\n",
       "      <th></th>\n",
       "      <th>fips</th>\n",
       "      <th>stusps</th>\n",
       "      <th>state</th>\n",
       "      <th>state_name</th>\n",
       "      <th>hud_area_code</th>\n",
       "      <th>hud_area_name</th>\n",
       "      <th>county</th>\n",
       "      <th>County_Name</th>\n",
       "      <th>county_town_name</th>\n",
       "      <th>metro</th>\n",
       "      <th>...</th>\n",
       "      <th>ELI_7</th>\n",
       "      <th>ELI_8</th>\n",
       "      <th>l80_1</th>\n",
       "      <th>l80_2</th>\n",
       "      <th>l80_3</th>\n",
       "      <th>l80_4</th>\n",
       "      <th>l80_5</th>\n",
       "      <th>l80_6</th>\n",
       "      <th>l80_7</th>\n",
       "      <th>l80_8</th>\n",
       "    </tr>\n",
       "  </thead>\n",
       "  <tbody>\n",
       "    <tr>\n",
       "      <th>3651</th>\n",
       "      <td>4507999999</td>\n",
       "      <td>SC</td>\n",
       "      <td>45</td>\n",
       "      <td>South Carolina</td>\n",
       "      <td>METRO17900M17900</td>\n",
       "      <td>Columbia, SC HUD Metro FMR Area</td>\n",
       "      <td>79</td>\n",
       "      <td>Richland County</td>\n",
       "      <td>Richland County</td>\n",
       "      <td>1</td>\n",
       "      <td>...</td>\n",
       "      <td>48650</td>\n",
       "      <td>54150</td>\n",
       "      <td>51950</td>\n",
       "      <td>59350</td>\n",
       "      <td>66750</td>\n",
       "      <td>74150</td>\n",
       "      <td>80100</td>\n",
       "      <td>86050</td>\n",
       "      <td>91950</td>\n",
       "      <td>97900</td>\n",
       "    </tr>\n",
       "  </tbody>\n",
       "</table>\n",
       "<p>1 rows × 35 columns</p>\n",
       "</div>"
      ],
      "text/plain": [
       "            fips stusps  state      state_name     hud_area_code  \\\n",
       "3651  4507999999     SC     45  South Carolina  METRO17900M17900   \n",
       "\n",
       "                        hud_area_name  county      County_Name  \\\n",
       "3651  Columbia, SC HUD Metro FMR Area      79  Richland County   \n",
       "\n",
       "     county_town_name  metro  ...  ELI_7  ELI_8  l80_1  l80_2  l80_3  l80_4  \\\n",
       "3651  Richland County      1  ...  48650  54150  51950  59350  66750  74150   \n",
       "\n",
       "      l80_5  l80_6  l80_7  l80_8  \n",
       "3651  80100  86050  91950  97900  \n",
       "\n",
       "[1 rows x 35 columns]"
      ]
     },
     "execution_count": 5,
     "metadata": {},
     "output_type": "execute_result"
    }
   ],
   "source": [
    "DataSC"
   ]
  },
  {
   "cell_type": "code",
   "execution_count": 6,
   "id": "381f09ea",
   "metadata": {},
   "outputs": [],
   "source": [
    "DataSC = DataSC[[ 'hud_area_name', 'County_Name','median2025', 'l50_1', 'l50_4','ELI_1', 'ELI_4', 'l80_1', 'l80_4']]"
   ]
  },
  {
   "cell_type": "code",
   "execution_count": 7,
   "id": "8910e96a",
   "metadata": {},
   "outputs": [],
   "source": [
    "# DataSC = DataSC[[ 'hud_area_name','County_Name', 'median2024', 'l50_1', 'l50_4','ELI_1', 'ELI_4', 'l80_1', 'l80_4']]"
   ]
  },
  {
   "cell_type": "code",
   "execution_count": 8,
   "id": "34afba53",
   "metadata": {},
   "outputs": [],
   "source": [
    "DataFinal = DataSC.copy()"
   ]
  },
  {
   "cell_type": "code",
   "execution_count": 9,
   "id": "1ae3724e",
   "metadata": {},
   "outputs": [],
   "source": [
    "# DataFinal.rename(columns={\n",
    "#     'ELI_1': 'Extremely Low Income 30% AMI Single Individual',\n",
    "#     'ELI_4': 'Extremely Low Income 30% AMI Family of Four',\n",
    "#     'l50_1': 'Very Low Income 50% AMI Single Individual',\n",
    "#     'l50_4': 'Very Low Income 50%% AMI Family of Four',\n",
    "#     'l80_1': 'Low Income 80% AMI Single Individual',\n",
    "#     'l80_4': 'Low Income 80% AMI Family of Four',\n",
    "#     'hud_area_name': 'MSA',\n",
    "#     'median2024': 'AMI 2024',\n",
    "#     'County_Name':'County Name'\n",
    "# }, inplace=True)\n"
   ]
  },
  {
   "cell_type": "code",
   "execution_count": 10,
   "id": "e34dba29",
   "metadata": {},
   "outputs": [],
   "source": [
    "DataFinal.rename(columns={\n",
    "    'ELI_1': 'Extremely Low Income 30% AMI Single Individual',\n",
    "    'ELI_4': 'Extremely Low Income 30% AMI Family of Four',\n",
    "    'l50_1': 'Very Low Income 50% AMI Single Individual',\n",
    "    'l50_4': 'Very Low Income 50%% AMI Family of Four',\n",
    "    'l80_1': 'Low Income 80% AMI Single Individual',\n",
    "    'l80_4': 'Low Income 80% AMI Family of Four',\n",
    "    'hud_area_name': 'MSA',\n",
    "    'median2025': 'AMI 2025',\n",
    "    'County_Name':'County Name'\n",
    "}, inplace=True)\n"
   ]
  },
  {
   "cell_type": "code",
   "execution_count": 11,
   "id": "45de37c5",
   "metadata": {},
   "outputs": [
    {
     "data": {
      "text/html": [
       "<div>\n",
       "<style scoped>\n",
       "    .dataframe tbody tr th:only-of-type {\n",
       "        vertical-align: middle;\n",
       "    }\n",
       "\n",
       "    .dataframe tbody tr th {\n",
       "        vertical-align: top;\n",
       "    }\n",
       "\n",
       "    .dataframe thead th {\n",
       "        text-align: right;\n",
       "    }\n",
       "</style>\n",
       "<table border=\"1\" class=\"dataframe\">\n",
       "  <thead>\n",
       "    <tr style=\"text-align: right;\">\n",
       "      <th></th>\n",
       "      <th>MSA</th>\n",
       "      <th>County Name</th>\n",
       "      <th>AMI 2025</th>\n",
       "      <th>Very Low Income 50% AMI Single Individual</th>\n",
       "      <th>Very Low Income 50%% AMI Family of Four</th>\n",
       "      <th>Extremely Low Income 30% AMI Single Individual</th>\n",
       "      <th>Extremely Low Income 30% AMI Family of Four</th>\n",
       "      <th>Low Income 80% AMI Single Individual</th>\n",
       "      <th>Low Income 80% AMI Family of Four</th>\n",
       "    </tr>\n",
       "  </thead>\n",
       "  <tbody>\n",
       "    <tr>\n",
       "      <th>3651</th>\n",
       "      <td>Columbia, SC HUD Metro FMR Area</td>\n",
       "      <td>Richland County</td>\n",
       "      <td>92700</td>\n",
       "      <td>32450</td>\n",
       "      <td>46350</td>\n",
       "      <td>19500</td>\n",
       "      <td>32150</td>\n",
       "      <td>51950</td>\n",
       "      <td>74150</td>\n",
       "    </tr>\n",
       "  </tbody>\n",
       "</table>\n",
       "</div>"
      ],
      "text/plain": [
       "                                  MSA      County Name  AMI 2025  \\\n",
       "3651  Columbia, SC HUD Metro FMR Area  Richland County     92700   \n",
       "\n",
       "      Very Low Income 50% AMI Single Individual  \\\n",
       "3651                                      32450   \n",
       "\n",
       "      Very Low Income 50%% AMI Family of Four  \\\n",
       "3651                                    46350   \n",
       "\n",
       "      Extremely Low Income 30% AMI Single Individual  \\\n",
       "3651                                           19500   \n",
       "\n",
       "      Extremely Low Income 30% AMI Family of Four  \\\n",
       "3651                                        32150   \n",
       "\n",
       "      Low Income 80% AMI Single Individual  Low Income 80% AMI Family of Four  \n",
       "3651                                 51950                              74150  "
      ]
     },
     "execution_count": 11,
     "metadata": {},
     "output_type": "execute_result"
    }
   ],
   "source": [
    "DataFinal"
   ]
  },
  {
   "cell_type": "code",
   "execution_count": 12,
   "id": "793cfdff",
   "metadata": {},
   "outputs": [],
   "source": [
    "# DataFinal.to_csv('IncomeLimits2024.csv', index = False)"
   ]
  },
  {
   "cell_type": "code",
   "execution_count": 13,
   "id": "abf7088b",
   "metadata": {},
   "outputs": [],
   "source": [
    "DataFinal.to_csv('IncomeLimits2025.csv', index = False)"
   ]
  }
 ],
 "metadata": {
  "kernelspec": {
   "display_name": "Python 3 (ipykernel)",
   "language": "python",
   "name": "python3"
  },
  "language_info": {
   "codemirror_mode": {
    "name": "ipython",
    "version": 3
   },
   "file_extension": ".py",
   "mimetype": "text/x-python",
   "name": "python",
   "nbconvert_exporter": "python",
   "pygments_lexer": "ipython3",
   "version": "3.9.18"
  }
 },
 "nbformat": 4,
 "nbformat_minor": 5
}
